{
 "cells": [
  {
   "cell_type": "code",
   "execution_count": 1,
   "metadata": {},
   "outputs": [],
   "source": [
    "import os\n",
    "from bs4 import BeautifulSoup\n",
    "import requests\n",
    "import urllib.request\n",
    "from tqdm import tqdm\n",
    "import math\n",
    "import time\n",
    "import re"
   ]
  },
  {
   "cell_type": "code",
   "execution_count": 7,
   "metadata": {},
   "outputs": [],
   "source": [
    "# 保存先作成\n",
    "save_dir = './html/'\n",
    "os.makedirs(save_dir, exist_ok=True)\n",
    "\n",
    "# アーティスト検索ページ\n",
    "url = 'https://music.j-total.net/a_search/'\n",
    "r = requests.get(url)\n",
    "soup = BeautifulSoup(r.content, 'html.parser')\n",
    "\n",
    "# エンコーディングをセット（shift-jis）\n",
    "r.encoding = r.apparent_encoding\n",
    "\n",
    "# 各五十音のリンクを取得\n",
    "moji_links = []\n",
    "gojyuon = soup.find_all('select')\n",
    "for g in gojyuon:\n",
    "    moji_lst = g.find_all('option')[1:] # 最初の要素はリンクが含まれていない\n",
    "    for moji in moji_lst:\n",
    "        moji_links.append(moji.get('value'))"
   ]
  },
  {
   "cell_type": "code",
   "execution_count": 14,
   "metadata": {},
   "outputs": [
    {
     "name": "stderr",
     "output_type": "stream",
     "text": [
      "100%|██████████| 2/2 [00:02<00:00,  1.24s/it]\n"
     ]
    }
   ],
   "source": [
    "# 頭文字ごと処理\n",
    "for moji_link in tqdm(moji_links[:2]):\n",
    "    # 各文字のURL\n",
    "    moji_url = url + moji_link\n",
    "    # html取得\n",
    "    r_moji = requests.get(moji_url)\n",
    "    soup_moji = BeautifulSoup(r_moji.content, 'html.parser')\n",
    "\n",
    "    # アーティストのリンクを取得して、　アーティスト名：リンク　となる辞書を作成する\n",
    "    artist_links = soup_moji.find_all('a', href=re.compile(\"^//music.j-total.net/db/search.cgi\"))\n",
    "    artist_link_dict = {}\n",
    "    for link in artist_links:\n",
    "        name = link.text.replace('\\n', '').replace(' ', '')\n",
    "        if len(name) == 0:\n",
    "            continue\n",
    "        artist_link_dict[name] = 'http:' + link.get('href')"
   ]
  },
  {
   "cell_type": "code",
   "execution_count": 15,
   "metadata": {},
   "outputs": [
    {
     "data": {
      "text/plain": [
       "{'175R': 'http://music.j-total.net/db/search.cgi?mode=search&page=1&sort=ac_new&word=%89%CC%81F175R/&method=and',\n",
       " 'EEJUMP': 'http://music.j-total.net/db/search.cgi?mode=search&page=1&sort=ac_new&word=%89%CC%81FEE%20JUMP/&method=and',\n",
       " 'E-girls': 'http://music.j-total.net/db/search.cgi?mode=search&page=1&sort=ac_new&word=E-girls%20&method=and',\n",
       " 'ET-KING': 'http://music.j-total.net/db/search.cgi?mode=search&page=1&sort=ac_new&word=%89%CC%81FET-KING/&method=and',\n",
       " 'Ikuko': 'http://music.j-total.net/db/search.cgi?mode=search&page=1&sort=ac_new&word=%89%CC%81FIkuko/&method=and',\n",
       " 'In197666': 'http://music.j-total.net/db/search.cgi?mode=search&page=1&sort=ac_new&word=%89%CC%81FIn%20197666/&method=and',\n",
       " 'IN-HI': 'http://music.j-total.net/db/search.cgi?mode=search&page=1&sort=ac_new&word=%89%CC%81FIN-HI/&method=and',\n",
       " 'INSPi': 'http://music.j-total.net/db/search.cgi?mode=search&page=1&sort=ac_new&word=%89%CC%81FINSPi/&method=and',\n",
       " 'ISSA': 'http://music.j-total.net/db/search.cgi?mode=search&page=1&sort=ac_new&word=%89%CC%81FISSA/&method=and',\n",
       " 'IZAM': 'http://music.j-total.net/db/search.cgi?mode=search&page=1&sort=ac_new&word=%89%CC%81FIZAM/&method=and',\n",
       " 'THEYELLOWMONKEY': 'http://music.j-total.net/db/search.cgi?mode=search&page=1&sort=ac_new&word=%89%CC%81FTHE%20YELLOW%20MONKEY/&method=and',\n",
       " 'THEイナズマ戦隊': 'http://music.j-total.net/db/search.cgi?mode=search&page=1&sort=ac_new&word=%89%CC%81FTHE%20%83C%83i%83Y%83%7D%90%ED%91%E0/&method=and',\n",
       " 'YellowCherry': 'http://music.j-total.net/db/search.cgi?mode=search&page=1&sort=ac_new&word=%89%CC%81FYellow%20Cherry/&method=and',\n",
       " 'YeLLOWGeneration': 'http://music.j-total.net/db/search.cgi?mode=search&page=1&sort=ac_new&word=%89%CC%81FYeLLOW%20Generation/&method=and',\n",
       " 'いきものがかり': 'http://music.j-total.net/db/search.cgi?mode=search&page=1&sort=ac_new&word=%89%CC%81F%82%A2%82%AB%82%E0%82%CC%82%AA%82%A9%82%E8/&method=and',\n",
       " 'イクタ☆アイコ': 'http://music.j-total.net/db/search.cgi?mode=search&page=1&sort=ac_new&word=%89%CC%81F%83C%83N%83%5E%81%99%83A%83C%83R/&method=and',\n",
       " 'いしだあゆみ': 'http://music.j-total.net/db/search.cgi?mode=search&page=1&sort=ac_new&word=%89%CC%81F%82%A2%82%B5%82%BE%82%A0%82%E4%82%DD/&method=and',\n",
       " 'いずみたくシンガーズ': 'http://music.j-total.net/db/search.cgi?mode=search&page=1&sort=ac_new&word=%89%CC%81F%82%A2%82%B8%82%DD%82%BD%82%AD%83V%83%93%83K%81%5B%83Y/&method=and',\n",
       " 'イカルス渡辺': 'http://music.j-total.net/db/search.cgi?mode=search&page=1&sort=ac_new&word=%89%CC%81F%83C%83J%83%8B%83X%93n%95%D3/&method=and',\n",
       " 'イモ欽トリオ': 'http://music.j-total.net/db/search.cgi?mode=search&page=1&sort=ac_new&word=%89%CC%81F%83C%83%82%8B%D4%83g%83%8A%83I%20&method=and',\n",
       " 'イルカ': 'http://music.j-total.net/db/search.cgi?mode=search&page=1&sort=ac_new&word=%89%CC%81F%83C%83%8B%83J/&method=and',\n",
       " '伊集加代子': 'http://music.j-total.net/db/search.cgi?mode=search&page=1&sort=ac_new&word=%89%CC%81F%88%C9%8FW%89%C1%91%E3%8Eq/&method=and',\n",
       " '伊勢正三': 'http://music.j-total.net/db/search.cgi?mode=search&page=1&sort=ac_new&word=%89%CC%81F%88%C9%90%A8%90%B3%8EO/&method=and',\n",
       " '伊丹哲也とSideBySide': 'http://music.j-total.net/db/search.cgi?mode=search&page=1&sort=ac_new&word=%89%CC%81F%88%C9%92O%93N%96%E7%82%C6Side%20By%20Side/&method=and',\n",
       " '伊東きよ子': 'http://music.j-total.net/db/search.cgi?mode=search&page=1&sort=ac_new&word=%89%CC%81F%88%C9%93%8C%82%AB%82%E6%8Eq/&method=and',\n",
       " '伊藤秀志': 'http://music.j-total.net/db/search.cgi?mode=search&page=1&sort=ac_new&word=%89%CC%81F%88%C9%93%A1%8FG%8Eu/&method=and',\n",
       " '井上あずみ': 'http://music.j-total.net/db/search.cgi?mode=search&page=1&sort=ac_new&word=%89%CC%81F%88%E4%8F%E3%82%A0%82%B8%82%DD/&method=and',\n",
       " '井上陽水・奥田民生': 'http://music.j-total.net/db/search.cgi?mode=search&page=1&sort=ac_new&word=%89%CC%81F%88%E4%8F%E3%97z%90%85%81E%89%9C%93c%96%AF%90%B6/&method=and',\n",
       " '稲垣潤一': 'http://music.j-total.net/db/search.cgi?mode=search&page=1&sort=ac_new&word=%89%CC%81F%88%EE%8A_%8F%81%88%EA/&method=and',\n",
       " '岩崎貴文': 'http://music.j-total.net/db/search.cgi?mode=search&page=1&sort=ac_new&word=%89%CC%81F%8A%E2%8D%E8%8BM%95%B6/&method=and',\n",
       " '岩瀬敬吾': 'http://music.j-total.net/db/search.cgi?mode=search&page=1&sort=ac_new&word=%89%CC%81F%8A%E2%90%A3%8Ch%8C%E1/&method=and',\n",
       " '忌野清志郎・坂本龍一': 'http://music.j-total.net/db/search.cgi?mode=search&page=1&sort=ac_new&word=%89%CC%81F%8A%F5%96%EC%90%B4%8Eu%98Y/%20%89%CC%81F%8A%F5%96%EC%90%B4%8Eu%98Y%81E%8D%E2%96%7B%97%B4%88%EA/%20%89%CC%81F%8A%F5%96%EC%90%B4%8Eu%98Y%81%952%81E3%27s/%20%89%CC%81FRC%83T%83N%83Z%83V%83%87%83%93/&method=or',\n",
       " '五十嵐浩晃': 'http://music.j-total.net/db/search.cgi?mode=search&page=1&sort=ac_new&word=%89%CC%81F%8C%DC%8F%5C%97%92%8D_%8DW/&method=and',\n",
       " '五木ひろし': 'http://music.j-total.net/db/search.cgi?mode=search&page=1&sort=ac_new&word=%89%CC%81F%8C%DC%96%D8%82%D0%82%EB%82%B5/&method=and',\n",
       " '五木ひろし・坂本冬美': 'http://music.j-total.net/db/search.cgi?mode=search&page=1&sort=ac_new&word=%89%CC%81F%8C%DC%96%D8%82%D0%82%EB%82%B5%81E%8D%E2%96%7B%93%7E%94%FC%20&method=and',\n",
       " '今井美樹': 'http://music.j-total.net/db/search.cgi?mode=search&page=1&sort=ac_new&word=%89%CC%81F%8D%A1%88%E4%94%FC%8E%F7/&method=and',\n",
       " '市川染五郎': 'http://music.j-total.net/db/search.cgi?mode=search&page=1&sort=ac_new&word=%89%CC%81F%8Es%90%EC%90%F5%8C%DC%98Y/&method=and',\n",
       " '石橋正次': 'http://music.j-total.net/db/search.cgi?mode=search&page=1&sort=ac_new&word=%89%CC%81F%90%CE%8B%B4%90%B3%8E%9F/&method=and',\n",
       " '石川セリ': 'http://music.j-total.net/db/search.cgi?mode=search&page=1&sort=ac_new&word=%89%CC%81F%90%CE%90%EC%83Z%83%8A/&method=and',\n",
       " '石川優子': 'http://music.j-total.net/db/search.cgi?mode=search&page=1&sort=ac_new&word=%89%CC%81F%90%CE%90%EC%97D%8Eq/&method=and',\n",
       " '石崎ひゅーい': 'http://music.j-total.net/db/search.cgi?mode=search&page=1&sort=ac_new&word=%89%CC%81F%90%CE%8D%E8%82%D0%82%E3%81%5B%82%A2/%20&method=and',\n",
       " '伊東ゆかり': 'http://music.j-total.net/db/search.cgi?mode=search&page=1&sort=ac_new&word=%89%CC%81F%88%C9%93%8C%82%E4%82%A9%82%E8/&method=and',\n",
       " '伊藤敏博': 'http://music.j-total.net/db/search.cgi?mode=search&page=1&sort=ac_new&word=%89%CC%81F%88%C9%93%A1%95q%94%8E/&method=and',\n",
       " '井上陽水': 'http://music.j-total.net/db/search.cgi?mode=search&page=1&sort=ac_new&word=%89%CC%81F%88%E4%8F%E3%97z%90%85/%20%89%CC%81F%88%E4%8F%E3%97z%90%85%81E%88%C0%91S%92n%91%D1/&method=or',\n",
       " '一世風靡セピア': 'http://music.j-total.net/db/search.cgi?mode=search&page=1&sort=ac_new&word=%89%CC%81F%88%EA%90%A2%95%97%EAr%83Z%83s%83A/&method=and',\n",
       " '稲葉浩志': 'http://music.j-total.net/db/search.cgi?mode=search&page=1&sort=ac_new&word=%89%CC%81F%88%EE%97t%8D_%8Eu/&method=and',\n",
       " '岩佐美咲': 'http://music.j-total.net/db/search.cgi?mode=search&page=1&sort=ac_new&word=%89%CC%81F%8A%E2%8D%B2%94%FC%8D%E7/&method=and',\n",
       " '岩崎宏美': 'http://music.j-total.net/db/search.cgi?mode=search&page=1&sort=ac_new&word=%89%CC%81F%8A%E2%8D%E8%8DG%94%FC/&method=and',\n",
       " '忌野清志郎': 'http://music.j-total.net/db/search.cgi?mode=search&page=1&sort=ac_new&word=%89%CC%81F%8A%F5%96%EC%90%B4%8Eu%98Y/%20%89%CC%81F%8A%F5%96%EC%90%B4%8Eu%98Y%81E%8D%E2%96%7B%97%B4%88%EA/%20%89%CC%81F%8A%F5%96%EC%90%B4%8Eu%98Y%81%952%81E3%27s/%20%89%CC%81FRC%83T%83N%83Z%83V%83%87%83%93/&method=or',\n",
       " '犬神サーカス団': 'http://music.j-total.net/db/search.cgi?mode=search&page=1&sort=ac_new&word=%89%CC%81F%8C%A2%90_%83T%81%5B%83J%83X%92c/&method=and',\n",
       " '五輪真弓': 'http://music.j-total.net/db/search.cgi?mode=search&page=1&sort=ac_new&word=%89%CC%81F%8C%DC%97%D6%90%5E%8B%7C/&method=and',\n",
       " '今井翼': 'http://music.j-total.net/db/search.cgi?mode=search&page=1&sort=ac_new&word=%89%CC%81F%8D%A1%88%E4%97%83/&method=and',\n",
       " '石井明美': 'http://music.j-total.net/db/search.cgi?mode=search&page=1&sort=ac_new&word=%89%CC%81F%90%CE%88%E4%96%BE%94%FC/&method=and',\n",
       " '今井美樹×小渕健太郎with': 'http://music.j-total.net/db/search.cgi?mode=search&page=1&sort=ac_new&word=%89%CC%81F%8D%A1%88%E4%94%FC%8E%F7%81%7E%8F%AC%9F%BA%8C%92%91%BE%98Y%20with%20%95z%91%DC%93%D0%91%D7%81%7B%8D%95%93c%8Fr%89%EE/&method=and',\n",
       " '布袋寅泰＋黒田俊介': 'http://music.j-total.net/db/search.cgi?mode=search&page=1&sort=ac_new&word=%89%CC%81F%8D%A1%88%E4%94%FC%8E%F7%81%7E%8F%AC%9F%BA%8C%92%91%BE%98Y%20with%20%95z%91%DC%93%D0%91%D7%81%7B%8D%95%93c%8Fr%89%EE/&method=and',\n",
       " '石原裕次郎': 'http://music.j-total.net/db/search.cgi?mode=search&page=1&sort=ac_new&word=%89%CC%81F%90%CE%8C%B4%97T%8E%9F%98Y/&method=and',\n",
       " '石川ひとみ': 'http://music.j-total.net/db/search.cgi?mode=search&page=1&sort=ac_new&word=%89%CC%81F%90%CE%90%EC%82%D0%82%C6%82%DD/&method=and',\n",
       " '石川優子・チャゲ': 'http://music.j-total.net/db/search.cgi?mode=search&page=1&sort=ac_new&word=%89%CC%81F%90%CE%90%EC%97D%8Eq%81E%83%60%83%83%83Q/&method=and',\n",
       " '飯田圭織': 'http://music.j-total.net/db/search.cgi?mode=search&page=1&sort=ac_new&word=%89%CC%81F%94%D1%93c%8C%5C%90D/&method=and',\n",
       " '井上大輔': 'http://music.j-total.net/db/search.cgi?mode=search&page=1&sort=ac_new&word=%89%CC%81F%88%E4%8F%E3%91%E5%95%E3/&method=and',\n",
       " '井手綾香': 'http://music.j-total.net/db/search.cgi?mode=search&page=1&sort=ac_new&word=%89%CC%81F%88%E4%8E%E8%88%BB%8D%81/&method=and',\n",
       " '泉谷しげる': 'http://music.j-total.net/db/search.cgi?mode=search&page=1&sort=ac_new&word=%89%CC%81F%90%F2%92J%82%B5%82%B0%82%E9/&method=and',\n",
       " 'Eagles': 'http://music.j-total.net/db/search.cgi?mode=search&page=1&sort=ac_new&word=%89%CC%81FEagles/&method=and',\n",
       " '伊藤咲子': 'http://music.j-total.net/db/search.cgi?mode=search&page=1&sort=ac_new&word=%89%CC%81F%88%C9%93%A1%8D%E7%8Eq/&method=and',\n",
       " '伊藤由奈': 'http://music.j-total.net/db/search.cgi?mode=search&page=1&sort=ac_new&word=%89%CC%81F%88%C9%93%A1%97R%93%DE/&method=and',\n",
       " '井上陽水・安全地帯': 'http://music.j-total.net/db/search.cgi?mode=search&page=1&sort=ac_new&word=%89%CC%81F%88%E4%8F%E3%97z%90%85%81E%88%C0%91S%92n%91%D1/&method=and',\n",
       " '一風堂': 'http://music.j-total.net/db/search.cgi?mode=search&page=1&sort=ac_new&word=%89%CC%81F%88%EA%95%97%93%B0/&method=and',\n",
       " '因幡晃': 'http://music.j-total.net/db/search.cgi?mode=search&page=1&sort=ac_new&word=%89%CC%81F%88%F6%94%A6%8DW/&method=and',\n",
       " '岩崎良美': 'http://music.j-total.net/db/search.cgi?mode=search&page=1&sort=ac_new&word=%89%CC%81F%8A%E2%8D%E8%97%C7%94%FC/&method=and',\n",
       " \"忌野清志郎＆2・3's\": 'http://music.j-total.net/db/search.cgi?mode=search&page=1&sort=ac_new&word=%89%CC%81F%8A%F5%96%EC%90%B4%8Eu%98Y/%20%89%CC%81F%8A%F5%96%EC%90%B4%8Eu%98Y%81E%8D%E2%96%7B%97%B4%88%EA/%20%89%CC%81F%8A%F5%96%EC%90%B4%8Eu%98Y%81%952%81E3%27s/%20%89%CC%81FRC%83T%83N%83Z%83V%83%87%83%93/&method=or',\n",
       " '五つの赤い風船': 'http://music.j-total.net/db/search.cgi?mode=search&page=1&sort=ac_new&word=%89%CC%81F%8C%DC%82%C2%82%CC%90%D4%82%A2%95%97%91D/&method=and',\n",
       " '今井絵理子': 'http://music.j-total.net/db/search.cgi?mode=search&page=1&sort=ac_new&word=%89%CC%81F%8D%A1%88%E4%8AG%97%9D%8Eq/&method=and',\n",
       " '市井沙耶香inCUBIC-CROSS': 'http://music.j-total.net/db/search.cgi?mode=search&page=1&sort=ac_new&word=%89%CC%81F%8Es%88%E4%8E%D1%96%EB%8D%81%20in%20CUBIC-CROSS/&method=and',\n",
       " '石井竜也': 'http://music.j-total.net/db/search.cgi?mode=search&page=1&sort=ac_new&word=%89%CC%81F%90%CE%88%E4%97%B3%96%E7/&method=and',\n",
       " '石川さゆり': 'http://music.j-total.net/db/search.cgi?mode=search&page=1&sort=ac_new&word=%89%CC%81F%90%CE%90%EC%82%B3%82%E4%82%E8/&method=and',\n",
       " '石川秀美': 'http://music.j-total.net/db/search.cgi?mode=search&page=1&sort=ac_new&word=%89%CC%81F%90%CE%90%EC%8FG%94%FC/&method=and',\n",
       " '石川進': 'http://music.j-total.net/db/search.cgi?mode=search&page=1&sort=ac_new&word=%89%CC%81F%90%CE%90%EC%90i/&method=and',\n",
       " '石野真子': 'http://music.j-total.net/db/search.cgi?mode=search&page=1&sort=ac_new&word=%89%CC%81F%90%CE%96%EC%90%5E%8Eq/&method=and',\n",
       " '井上順': 'http://music.j-total.net/db/search.cgi?mode=search&page=1&sort=ac_new&word=%89%CC%81F%88%E4%8F%E3%8F%87/&method=and',\n",
       " '諫山実生': 'http://music.j-total.net/db/search.cgi?mode=search&page=1&sort=ac_new&word=%89%CC%81F%E6%7C%8ER%8E%C0%90%B6/&method=and',\n",
       " '池田鴻': 'http://music.j-total.net/db/search.cgi?mode=search&page=1&sort=ac_new&word=%89%CC%81F%92r%93c%8D%83/&method=and',\n",
       " '芋洗坂係長': 'http://music.j-total.net/db/search.cgi?mode=search&page=1&sort=ac_new&word=%89%CC%81F%88%F0%90%F4%8D%E2%8CW%92%B7/&method=and',\n",
       " '家入レオ': 'http://music.j-total.net/db/search.cgi?mode=search&page=1&sort=ac_new&word=%89%CC%81F%89%C6%93%FC%83%8C%83I/&method=and',\n",
       " '家入レオ×大原櫻子×藤原さくら': 'http://music.j-total.net/db/search.cgi?mode=search&page=1&sort=ac_new&word=%89%CC%81F%89%C6%93%FC%83%8C%83I%81%7E%91%E5%8C%B4%9FN%8Eq%81%7E%93%A1%8C%B4%82%B3%82%AD%82%E7/&method=and',\n",
       " '板野友美': 'http://music.j-total.net/db/search.cgi?mode=search&page=1&sort=ac_new&word=%89%CC%81F%94%C2%96%EC%97F%94%FC/&method=and'}"
      ]
     },
     "execution_count": 15,
     "metadata": {},
     "output_type": "execute_result"
    }
   ],
   "source": [
    "artist_link_dict"
   ]
  }
 ],
 "metadata": {
  "kernelspec": {
   "display_name": "Python 3",
   "language": "python",
   "name": "python3"
  },
  "language_info": {
   "codemirror_mode": {
    "name": "ipython",
    "version": 3
   },
   "file_extension": ".py",
   "mimetype": "text/x-python",
   "name": "python",
   "nbconvert_exporter": "python",
   "pygments_lexer": "ipython3",
   "version": "3.6.5"
  }
 },
 "nbformat": 4,
 "nbformat_minor": 2
}
